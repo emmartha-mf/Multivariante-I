{
  "nbformat": 4,
  "nbformat_minor": 0,
  "metadata": {
    "colab": {
      "provenance": [],
      "authorship_tag": "ABX9TyOwgV5zoDdFOmV2UPl7O0k4",
      "include_colab_link": true
    },
    "kernelspec": {
      "name": "python3",
      "display_name": "Python 3"
    },
    "language_info": {
      "name": "python"
    }
  },
  "cells": [
    {
      "cell_type": "markdown",
      "metadata": {
        "id": "view-in-github",
        "colab_type": "text"
      },
      "source": [
        "<a href=\"https://colab.research.google.com/github/emmartha-mf/Multivariante-I/blob/main/Ejemplo1.ipynb\" target=\"_parent\"><img src=\"https://colab.research.google.com/assets/colab-badge.svg\" alt=\"Open In Colab\"/></a>"
      ]
    },
    {
      "cell_type": "markdown",
      "source": [
        "# **Ejemplo: Datos de 25 niños**"
      ],
      "metadata": {
        "id": "wPoODwU5vUlF"
      }
    },
    {
      "cell_type": "code",
      "source": [
        "ebes"
      ],
      "metadata": {
        "id": "6VPHjb35y_Mu"
      },
      "execution_count": null,
      "outputs": []
    },
    {
      "cell_type": "code",
      "execution_count": null,
      "metadata": {
        "id": "qhTt20s1vLv9"
      },
      "outputs": [],
      "source": [
        "#Cargamos las librerias\n",
        "import pandas as pd\n",
        "import seaborn as sns\n",
        "import matplotlib.pyplot as plt\n"
      ]
    },
    {
      "cell_type": "markdown",
      "source": [
        "# **Matriz de datos**"
      ],
      "metadata": {
        "id": "_vVxHYgbv0eo"
      }
    },
    {
      "cell_type": "code",
      "source": [
        "# Crear el DataFrame con los datos proporcionados\n",
        "# CI: Coeficiente intelectual\n",
        "# Peso: gramos\n",
        "#Edad: Número de días de nacido vivo\n",
        "data = {\n",
        "    'CI': [125, 86, 119, 113, 101, 143, 132, 106, 121, 109, 88, 116, 102, 75, 90, 109, 104, 110, 96, 101, 95, 117, 115, 138, 85],\n",
        "    'Peso': [2536, 2505, 2652, 2573, 2382, 2443, 2617, 2556, 2489, 2415, 2434, 2491, 2345, 2350, 2536, 2577, 2464, 2571, 2550, 2437, 2472, 2580, 2436, 2200, 2851],\n",
        "    'Edad': [28, 31, 32, 20, 30, 30, 27, 36, 34, 29, 27, 24, 26, 23, 24, 22, 35, 24, 24, 23, 36, 21, 39, 41, 17]\n",
        "}\n",
        "\n",
        "df = pd.DataFrame(data)\n",
        "\n",
        "# Visualización inicial\n",
        "print(df.head())\n",
        "print(df.tail())\n",
        "print(\"Datos:\")\n",
        "print(df)"
      ],
      "metadata": {
        "id": "HVE0cTQAvqvR"
      },
      "execution_count": null,
      "outputs": []
    },
    {
      "cell_type": "markdown",
      "source": [
        "# **Análisis previo**"
      ],
      "metadata": {
        "id": "Tq_3_0QNwBkx"
      }
    },
    {
      "cell_type": "code",
      "source": [
        "# Medidas descriptivas\n",
        "print(df.describe())\n"
      ],
      "metadata": {
        "id": "KNnI6vSJv6ow"
      },
      "execution_count": null,
      "outputs": []
    },
    {
      "cell_type": "code",
      "source": [
        "import seaborn as sns\n",
        "import matplotlib.pyplot as plt\n",
        "\n",
        "# Histogramas\n",
        "df.hist(bins=15, figsize=(15, 6), layout=(1, 3))\n",
        "plt.show()\n",
        "\n",
        "# Diagramas de cajas\n",
        "plt.figure(figsize=(10, 6))\n",
        "sns.boxplot(data=df)\n",
        "plt.title('Diagrama de Cajas')\n",
        "plt.show()\n",
        "\n",
        "# Matriz de dispersión\n",
        "sns.pairplot(df)\n",
        "plt.show()"
      ],
      "metadata": {
        "id": "-A3ZMsUuwGeT"
      },
      "execution_count": null,
      "outputs": []
    },
    {
      "cell_type": "markdown",
      "source": [
        "# **Vector de medias y matriz de var-cov**"
      ],
      "metadata": {
        "id": "5xRBcD1-xO3u"
      }
    },
    {
      "cell_type": "code",
      "source": [
        "import numpy as np\n",
        "import pandas as pd\n",
        "# Calcular el vector de medias\n",
        "media_vector = df.mean()\n",
        "print(\"Vector de Medias:\")\n",
        "print(media_vector)\n",
        "\n",
        "# Calcular la matriz de varianzas y covarianzas poblacional\n",
        "N = len(df)\n",
        "mean_matrix = np.tile(mean_vector, (N, 1))\n",
        "deviations = df - mean_matrix\n",
        "cov_matrix_population = (deviations.T @ deviations) / N\n",
        "\n",
        "print(\"\\nMatriz de Varianzas y Covarianzas Poblacional:\")\n",
        "print(cov_matrix_population)"
      ],
      "metadata": {
        "id": "blSfn4r8xUf8"
      },
      "execution_count": null,
      "outputs": []
    }
  ]
}